{
 "cells": [
  {
   "cell_type": "markdown",
   "id": "f8db3f44",
   "metadata": {},
   "source": [
    "# How to use this script\n",
    "\n",
    "This script is used in AWS Sagemaker to build and deploy machine learning models"
   ]
  },
  {
   "cell_type": "code",
   "execution_count": 1,
   "id": "a61f04f7",
   "metadata": {},
   "outputs": [],
   "source": [
    "from sklearn.model_selection import cross_val_score, StratifiedKFold, train_test_split\n",
    "import pandas as pd\n"
   ]
  },
  {
   "cell_type": "code",
   "execution_count": 2,
   "id": "6eeb3b88",
   "metadata": {},
   "outputs": [],
   "source": [
    "#%%writefile preprocessing.py\n",
    "\n",
    "import argparse\n",
    "import os\n",
    "import warnings\n",
    "\n",
    "import numpy as np\n",
    "from sklearn.model_selection import train_test_split\n",
    "from sklearn.preprocessing import StandardScaler, OneHotEncoder, LabelBinarizer, KBinsDiscretizer\n",
    "from sklearn.preprocessing import PolynomialFeatures\n",
    "from sklearn.preprocessing import LabelEncoder, OneHotEncoder, StandardScaler,MinMaxScaler\n",
    "from sklearn.compose import make_column_transformer\n",
    "\n",
    "from sklearn.exceptions import DataConversionWarning\n",
    "\n",
    "warnings.filterwarnings(action=\"ignore\", category=DataConversionWarning)"
   ]
  },
  {
   "cell_type": "code",
   "execution_count": 106,
   "id": "fdbf0d32",
   "metadata": {},
   "outputs": [],
   "source": [
    "bucket='sagemaker-us-east-2-681954894216'\n",
    "\n",
    "path = 'data/dataset.csv'\n",
    "\n",
    "s3uri = 's3://{}/{}'.format(bucket, path)\n",
    "\n",
    "df = pd.read_csv(s3uri, sep=';')"
   ]
  },
  {
   "cell_type": "code",
   "execution_count": 107,
   "id": "db3ea995",
   "metadata": {},
   "outputs": [
    {
     "data": {
      "text/html": [
       "<div>\n",
       "<style scoped>\n",
       "    .dataframe tbody tr th:only-of-type {\n",
       "        vertical-align: middle;\n",
       "    }\n",
       "\n",
       "    .dataframe tbody tr th {\n",
       "        vertical-align: top;\n",
       "    }\n",
       "\n",
       "    .dataframe thead th {\n",
       "        text-align: right;\n",
       "    }\n",
       "</style>\n",
       "<table border=\"1\" class=\"dataframe\">\n",
       "  <thead>\n",
       "    <tr style=\"text-align: right;\">\n",
       "      <th></th>\n",
       "      <th>uuid</th>\n",
       "      <th>default</th>\n",
       "      <th>account_amount_added_12_24m</th>\n",
       "      <th>account_days_in_dc_12_24m</th>\n",
       "      <th>account_days_in_rem_12_24m</th>\n",
       "      <th>account_days_in_term_12_24m</th>\n",
       "      <th>account_incoming_debt_vs_paid_0_24m</th>\n",
       "      <th>account_status</th>\n",
       "      <th>account_worst_status_0_3m</th>\n",
       "      <th>account_worst_status_12_24m</th>\n",
       "      <th>...</th>\n",
       "      <th>status_3rd_last_archived_0_24m</th>\n",
       "      <th>status_max_archived_0_6_months</th>\n",
       "      <th>status_max_archived_0_12_months</th>\n",
       "      <th>status_max_archived_0_24_months</th>\n",
       "      <th>recovery_debt</th>\n",
       "      <th>sum_capital_paid_account_0_12m</th>\n",
       "      <th>sum_capital_paid_account_12_24m</th>\n",
       "      <th>sum_paid_inv_0_12m</th>\n",
       "      <th>time_hours</th>\n",
       "      <th>worst_status_active_inv</th>\n",
       "    </tr>\n",
       "  </thead>\n",
       "  <tbody>\n",
       "    <tr>\n",
       "      <th>9394</th>\n",
       "      <td>11fd8dd8-2587-4576-bb0b-0166a62f8ad9</td>\n",
       "      <td>0.0</td>\n",
       "      <td>23890</td>\n",
       "      <td>0.0</td>\n",
       "      <td>0.0</td>\n",
       "      <td>0.0</td>\n",
       "      <td>0.577640</td>\n",
       "      <td>1.0</td>\n",
       "      <td>1.0</td>\n",
       "      <td>1.0</td>\n",
       "      <td>...</td>\n",
       "      <td>1</td>\n",
       "      <td>1</td>\n",
       "      <td>1</td>\n",
       "      <td>1</td>\n",
       "      <td>0</td>\n",
       "      <td>18254</td>\n",
       "      <td>10420</td>\n",
       "      <td>197763</td>\n",
       "      <td>19.096944</td>\n",
       "      <td>NaN</td>\n",
       "    </tr>\n",
       "    <tr>\n",
       "      <th>23722</th>\n",
       "      <td>e3cd5bc2-4e73-43b0-9c88-4332cec75104</td>\n",
       "      <td>0.0</td>\n",
       "      <td>5872</td>\n",
       "      <td>0.0</td>\n",
       "      <td>0.0</td>\n",
       "      <td>0.0</td>\n",
       "      <td>0.000000</td>\n",
       "      <td>1.0</td>\n",
       "      <td>1.0</td>\n",
       "      <td>1.0</td>\n",
       "      <td>...</td>\n",
       "      <td>0</td>\n",
       "      <td>2</td>\n",
       "      <td>2</td>\n",
       "      <td>2</td>\n",
       "      <td>0</td>\n",
       "      <td>11582</td>\n",
       "      <td>5854</td>\n",
       "      <td>16669</td>\n",
       "      <td>16.126389</td>\n",
       "      <td>1.0</td>\n",
       "    </tr>\n",
       "    <tr>\n",
       "      <th>35822</th>\n",
       "      <td>bc7cbe58-e10e-424a-a735-3a602a1bdb55</td>\n",
       "      <td>0.0</td>\n",
       "      <td>0</td>\n",
       "      <td>0.0</td>\n",
       "      <td>0.0</td>\n",
       "      <td>0.0</td>\n",
       "      <td>61.176056</td>\n",
       "      <td>1.0</td>\n",
       "      <td>1.0</td>\n",
       "      <td>NaN</td>\n",
       "      <td>...</td>\n",
       "      <td>1</td>\n",
       "      <td>2</td>\n",
       "      <td>2</td>\n",
       "      <td>2</td>\n",
       "      <td>0</td>\n",
       "      <td>0</td>\n",
       "      <td>0</td>\n",
       "      <td>133098</td>\n",
       "      <td>21.653889</td>\n",
       "      <td>1.0</td>\n",
       "    </tr>\n",
       "    <tr>\n",
       "      <th>36675</th>\n",
       "      <td>f608d4c6-544d-4a7b-aee8-e66b808ae264</td>\n",
       "      <td>0.0</td>\n",
       "      <td>0</td>\n",
       "      <td>0.0</td>\n",
       "      <td>0.0</td>\n",
       "      <td>0.0</td>\n",
       "      <td>NaN</td>\n",
       "      <td>NaN</td>\n",
       "      <td>NaN</td>\n",
       "      <td>NaN</td>\n",
       "      <td>...</td>\n",
       "      <td>1</td>\n",
       "      <td>1</td>\n",
       "      <td>1</td>\n",
       "      <td>1</td>\n",
       "      <td>0</td>\n",
       "      <td>0</td>\n",
       "      <td>0</td>\n",
       "      <td>38825</td>\n",
       "      <td>18.415833</td>\n",
       "      <td>NaN</td>\n",
       "    </tr>\n",
       "    <tr>\n",
       "      <th>79848</th>\n",
       "      <td>e81b68f2-071f-4713-9ce1-f66bc74cf36f</td>\n",
       "      <td>0.0</td>\n",
       "      <td>0</td>\n",
       "      <td>0.0</td>\n",
       "      <td>0.0</td>\n",
       "      <td>0.0</td>\n",
       "      <td>0.000000</td>\n",
       "      <td>1.0</td>\n",
       "      <td>1.0</td>\n",
       "      <td>NaN</td>\n",
       "      <td>...</td>\n",
       "      <td>1</td>\n",
       "      <td>1</td>\n",
       "      <td>1</td>\n",
       "      <td>1</td>\n",
       "      <td>0</td>\n",
       "      <td>5642</td>\n",
       "      <td>0</td>\n",
       "      <td>85969</td>\n",
       "      <td>6.741111</td>\n",
       "      <td>1.0</td>\n",
       "    </tr>\n",
       "  </tbody>\n",
       "</table>\n",
       "<p>5 rows × 43 columns</p>\n",
       "</div>"
      ],
      "text/plain": [
       "                                       uuid  default  \\\n",
       "9394   11fd8dd8-2587-4576-bb0b-0166a62f8ad9      0.0   \n",
       "23722  e3cd5bc2-4e73-43b0-9c88-4332cec75104      0.0   \n",
       "35822  bc7cbe58-e10e-424a-a735-3a602a1bdb55      0.0   \n",
       "36675  f608d4c6-544d-4a7b-aee8-e66b808ae264      0.0   \n",
       "79848  e81b68f2-071f-4713-9ce1-f66bc74cf36f      0.0   \n",
       "\n",
       "       account_amount_added_12_24m  account_days_in_dc_12_24m  \\\n",
       "9394                         23890                        0.0   \n",
       "23722                         5872                        0.0   \n",
       "35822                            0                        0.0   \n",
       "36675                            0                        0.0   \n",
       "79848                            0                        0.0   \n",
       "\n",
       "       account_days_in_rem_12_24m  account_days_in_term_12_24m  \\\n",
       "9394                          0.0                          0.0   \n",
       "23722                         0.0                          0.0   \n",
       "35822                         0.0                          0.0   \n",
       "36675                         0.0                          0.0   \n",
       "79848                         0.0                          0.0   \n",
       "\n",
       "       account_incoming_debt_vs_paid_0_24m  account_status  \\\n",
       "9394                              0.577640             1.0   \n",
       "23722                             0.000000             1.0   \n",
       "35822                            61.176056             1.0   \n",
       "36675                                  NaN             NaN   \n",
       "79848                             0.000000             1.0   \n",
       "\n",
       "       account_worst_status_0_3m  account_worst_status_12_24m  ...  \\\n",
       "9394                         1.0                          1.0  ...   \n",
       "23722                        1.0                          1.0  ...   \n",
       "35822                        1.0                          NaN  ...   \n",
       "36675                        NaN                          NaN  ...   \n",
       "79848                        1.0                          NaN  ...   \n",
       "\n",
       "       status_3rd_last_archived_0_24m  status_max_archived_0_6_months  \\\n",
       "9394                                1                               1   \n",
       "23722                               0                               2   \n",
       "35822                               1                               2   \n",
       "36675                               1                               1   \n",
       "79848                               1                               1   \n",
       "\n",
       "       status_max_archived_0_12_months  status_max_archived_0_24_months  \\\n",
       "9394                                 1                                1   \n",
       "23722                                2                                2   \n",
       "35822                                2                                2   \n",
       "36675                                1                                1   \n",
       "79848                                1                                1   \n",
       "\n",
       "       recovery_debt sum_capital_paid_account_0_12m  \\\n",
       "9394               0                          18254   \n",
       "23722              0                          11582   \n",
       "35822              0                              0   \n",
       "36675              0                              0   \n",
       "79848              0                           5642   \n",
       "\n",
       "      sum_capital_paid_account_12_24m  sum_paid_inv_0_12m  time_hours  \\\n",
       "9394                            10420              197763   19.096944   \n",
       "23722                            5854               16669   16.126389   \n",
       "35822                               0              133098   21.653889   \n",
       "36675                               0               38825   18.415833   \n",
       "79848                               0               85969    6.741111   \n",
       "\n",
       "       worst_status_active_inv  \n",
       "9394                       NaN  \n",
       "23722                      1.0  \n",
       "35822                      1.0  \n",
       "36675                      NaN  \n",
       "79848                      1.0  \n",
       "\n",
       "[5 rows x 43 columns]"
      ]
     },
     "execution_count": 107,
     "metadata": {},
     "output_type": "execute_result"
    }
   ],
   "source": [
    "df.sample(5)"
   ]
  },
  {
   "cell_type": "markdown",
   "id": "a1378706",
   "metadata": {},
   "source": [
    "## Data Preprocessing"
   ]
  },
  {
   "cell_type": "code",
   "execution_count": 108,
   "id": "04aaddcd",
   "metadata": {},
   "outputs": [],
   "source": [
    "cat_cols = ['account_status', \n",
    "        'account_worst_status_0_3m', \n",
    "        'account_worst_status_12_24m', \n",
    "           'account_worst_status_3_6m', \n",
    "        'account_worst_status_6_12m', \n",
    "        'worst_status_active_inv',\n",
    "        'status_last_archived_0_24m', \n",
    "        'status_2nd_last_archived_0_24m', \n",
    "        'status_3rd_last_archived_0_24m',\n",
    "        'status_max_archived_0_6_months', \n",
    "        'status_max_archived_0_12_months', \n",
    "        'status_max_archived_0_24_months',\n",
    "        'has_paid',\n",
    "        'name_in_email', \n",
    "        'merchant_group',\n",
    "        'merchant_category',\n",
    "        'uuid']\n",
    "# for c in cat_cols:\n",
    "#     df[c]= df[c].values.astype(str)\n",
    "cat_features = cat_cols[:-1]\n",
    "num_features= [col for col in df.columns.tolist() if col not in (cat_cols)]\n",
    "label = ['default']\n",
    "num_features = num_features[1:]\n",
    "\n",
    "    # Removing highly correlated features\n",
    "highly_corelated_features = ['max_paid_inv_0_12m',\n",
    "                             'avg_payment_span_0_3m',\n",
    "                             'sum_capital_paid_account_12_24m', \n",
    "                             'num_arch_ok_0_12m']\n",
    "\n",
    "df = df.drop(highly_corelated_features, axis=1)\n",
    "\n",
    "num_features=[col for col in num_features if col not in highly_corelated_features]\n",
    "\n",
    "## Missing Data Imputation 1 \n",
    "### for some columns, the median of default = 1 is higher than default = 0, hence, I impute the missing data with median grouping by the category\n",
    "feature_higher_1 = ['avg_payment_span_0_12m',\n",
    "                    'account_days_in_rem_12_24m',\n",
    "                    'num_active_div_by_paid_inv_0_12m' ]\n",
    "\n",
    "na_cols = ['account_days_in_dc_12_24m',\n",
    " 'account_days_in_term_12_24m',\n",
    " 'account_incoming_debt_vs_paid_0_24m',\n",
    " 'num_arch_written_off_0_12m',\n",
    " 'num_arch_written_off_12_24m']\n",
    "\n",
    "for c in feature_higher_1:\n",
    "    df[c] = df[df['default'] != 'nan'][c].transform(lambda x: x.fillna(x.median()))\n",
    "\n",
    "for c in na_cols:\n",
    "    df[c] = df[df['default'] != 'nan'][c].transform(lambda x: x.fillna(x.median()))\n",
    "\n",
    "# Label encoding for ordinal categorical features\n",
    "#label encoding better for ordinal data with high cardinality\n",
    "#one hot encoding better for low cardinality and not ordinal data\n",
    "\n",
    "from sklearn.preprocessing import LabelEncoder, OneHotEncoder, StandardScaler,MinMaxScaler\n",
    "\n",
    "labelencoder = LabelEncoder()\n",
    "for feat in cat_features[0:11]:\n",
    "    df[feat] = labelencoder.fit_transform(df[feat].astype(str))\n",
    "\n",
    "\n",
    "#Binary encoding for Boolean columns\n",
    "dict1 = {True: 0, False:1}\n",
    "var = 'has_paid'\n",
    "df[var+'_ordinal'] = df['has_paid'].map(dict1)\n",
    "df = df.drop(var, axis=1)\n",
    "\n",
    "\n",
    "scaler = MinMaxScaler()\n",
    "df[num_features] = scaler.fit_transform(df[num_features])\n",
    "\n",
    "for c in cat_features[13:]:\n",
    "    dummies = pd.get_dummies(df[c])\n",
    "    df[dummies.columns] = dummies\n",
    "\n",
    "df = df.drop(cat_features[13:], axis=1)\n",
    "\n",
    "#find missing values"
   ]
  },
  {
   "cell_type": "code",
   "execution_count": 134,
   "id": "804ded45",
   "metadata": {},
   "outputs": [],
   "source": [
    "df_train = df[df['default'].notnull()]\n",
    "df_test = df[df['default'].isnull()]"
   ]
  },
  {
   "cell_type": "code",
   "execution_count": 135,
   "id": "ef805c00",
   "metadata": {},
   "outputs": [
    {
     "data": {
      "text/plain": [
       "LogisticRegression(max_iter=10000)"
      ]
     },
     "execution_count": 135,
     "metadata": {},
     "output_type": "execute_result"
    }
   ],
   "source": [
    "y = df_train['default']\n",
    "X = df_train.drop(['uuid', 'default'],axis = 1)\n",
    "\n",
    "cat_features[-4]= 'has_paid_ordinal'\n",
    "\n",
    "from sklearn.model_selection import train_test_split\n",
    "from sklearn.linear_model import LogisticRegression\n",
    "X_train, X_test, y_train, y_test = train_test_split(X, y, test_size = 0.2, random_state = 43, stratify = y)\n",
    "from sklearn.linear_model import LinearRegression\n",
    "regressor = LogisticRegression(max_iter=10000)\n",
    "regressor.fit(X_train, y_train)\n",
    "\n",
    "# Print the coefficients of the trained classifier, and save the coefficients\n",
    "#joblib.dump(regressor, os.path.join(args.model_dir, \"model.joblib\"))"
   ]
  },
  {
   "cell_type": "code",
   "execution_count": 136,
   "id": "e39a4fd1",
   "metadata": {},
   "outputs": [],
   "source": [
    "#X_train"
   ]
  },
  {
   "cell_type": "code",
   "execution_count": 137,
   "id": "5e5a75a5",
   "metadata": {},
   "outputs": [],
   "source": [
    "test_data = df_test.drop(['uuid', 'default'],axis = 1)"
   ]
  },
  {
   "cell_type": "code",
   "execution_count": 77,
   "id": "bfd5b64a",
   "metadata": {},
   "outputs": [],
   "source": [
    "# def model_fn(model_dir):\n",
    "#     \"\"\"Deserialized and return fitted model\n",
    "    \n",
    "#     Note that this should have the same name as the serialized model in the main method\n",
    "#     \"\"\"\n",
    "#     regressor = joblib.load(os.path.join(model_dir, \"model.joblib\"))\n",
    "#     return regressor"
   ]
  },
  {
   "cell_type": "markdown",
   "id": "98c68a72",
   "metadata": {},
   "source": [
    "## Prediction on the test sets"
   ]
  },
  {
   "cell_type": "code",
   "execution_count": 138,
   "id": "e4d051e3",
   "metadata": {},
   "outputs": [],
   "source": [
    "yhat = regressor.predict(X_test)\n",
    "yhat_prob = regressor.predict_proba(X_test)"
   ]
  },
  {
   "cell_type": "code",
   "execution_count": 139,
   "id": "098d6122",
   "metadata": {},
   "outputs": [
    {
     "data": {
      "text/plain": [
       "array([0., 0., 0., ..., 0., 0., 0.])"
      ]
     },
     "execution_count": 139,
     "metadata": {},
     "output_type": "execute_result"
    }
   ],
   "source": [
    "yhat"
   ]
  },
  {
   "cell_type": "code",
   "execution_count": 140,
   "id": "23905739",
   "metadata": {},
   "outputs": [
    {
     "data": {
      "text/plain": [
       "array([0.00168492, 0.01501433, 0.00267852, ..., 0.00428344, 0.01084724,\n",
       "       0.00309548])"
      ]
     },
     "execution_count": 140,
     "metadata": {},
     "output_type": "execute_result"
    }
   ],
   "source": [
    "yhat_prob[:,1]"
   ]
  },
  {
   "cell_type": "markdown",
   "id": "edef363a",
   "metadata": {},
   "source": [
    "## Prediction on the unknown labels "
   ]
  },
  {
   "cell_type": "code",
   "execution_count": 116,
   "id": "3afa3bef",
   "metadata": {},
   "outputs": [],
   "source": [
    "yhat_test = regressor.predict(test_data)\n",
    "yhat_prob_test = regressor.predict_proba(test_data)"
   ]
  },
  {
   "cell_type": "code",
   "execution_count": 117,
   "id": "b3dbab65",
   "metadata": {},
   "outputs": [],
   "source": [
    "df_pred = pd.DataFrame({'uuid':df_test['uuid'], 'y':yhat_prob_test[:,1]})\n",
    "df_pred.to_csv('final_prediction_result.csv')"
   ]
  },
  {
   "cell_type": "code",
   "execution_count": 118,
   "id": "59567bc6",
   "metadata": {},
   "outputs": [
    {
     "data": {
      "text/html": [
       "<div>\n",
       "<style scoped>\n",
       "    .dataframe tbody tr th:only-of-type {\n",
       "        vertical-align: middle;\n",
       "    }\n",
       "\n",
       "    .dataframe tbody tr th {\n",
       "        vertical-align: top;\n",
       "    }\n",
       "\n",
       "    .dataframe thead th {\n",
       "        text-align: right;\n",
       "    }\n",
       "</style>\n",
       "<table border=\"1\" class=\"dataframe\">\n",
       "  <thead>\n",
       "    <tr style=\"text-align: right;\">\n",
       "      <th></th>\n",
       "      <th>uuid</th>\n",
       "      <th>y</th>\n",
       "    </tr>\n",
       "  </thead>\n",
       "  <tbody>\n",
       "    <tr>\n",
       "      <th>89976</th>\n",
       "      <td>6f6e6c6a-2081-4e6b-8eb3-4fd89b54b2d7</td>\n",
       "      <td>0.012359</td>\n",
       "    </tr>\n",
       "    <tr>\n",
       "      <th>89977</th>\n",
       "      <td>f6f6d9f3-ef2b-4329-a388-c6a687f27e70</td>\n",
       "      <td>0.011938</td>\n",
       "    </tr>\n",
       "    <tr>\n",
       "      <th>89978</th>\n",
       "      <td>e9c39869-1bc5-4375-b627-a2df70b445ea</td>\n",
       "      <td>0.006468</td>\n",
       "    </tr>\n",
       "    <tr>\n",
       "      <th>89979</th>\n",
       "      <td>6beb88a3-9641-4381-beb6-c9a208664dd0</td>\n",
       "      <td>0.008778</td>\n",
       "    </tr>\n",
       "    <tr>\n",
       "      <th>89980</th>\n",
       "      <td>bb89b735-72fe-42a4-ba06-d63be0f4ca36</td>\n",
       "      <td>0.060918</td>\n",
       "    </tr>\n",
       "    <tr>\n",
       "      <th>...</th>\n",
       "      <td>...</td>\n",
       "      <td>...</td>\n",
       "    </tr>\n",
       "    <tr>\n",
       "      <th>99971</th>\n",
       "      <td>5c03bc63-ea65-4ffd-aa7b-95ea9a46db34</td>\n",
       "      <td>0.019608</td>\n",
       "    </tr>\n",
       "    <tr>\n",
       "      <th>99972</th>\n",
       "      <td>f8db22f4-9819-420c-abbc-9ddf1843176e</td>\n",
       "      <td>0.011805</td>\n",
       "    </tr>\n",
       "    <tr>\n",
       "      <th>99973</th>\n",
       "      <td>b22e21ea-b1b2-4df3-b236-0ff6d5fdc0d8</td>\n",
       "      <td>0.019273</td>\n",
       "    </tr>\n",
       "    <tr>\n",
       "      <th>99974</th>\n",
       "      <td>bafcab15-9898-479c-b729-c9dda7edb78f</td>\n",
       "      <td>0.019738</td>\n",
       "    </tr>\n",
       "    <tr>\n",
       "      <th>99975</th>\n",
       "      <td>ac88f18c-96a6-49bc-9e9d-a780225914af</td>\n",
       "      <td>0.014675</td>\n",
       "    </tr>\n",
       "  </tbody>\n",
       "</table>\n",
       "<p>10000 rows × 2 columns</p>\n",
       "</div>"
      ],
      "text/plain": [
       "                                       uuid         y\n",
       "89976  6f6e6c6a-2081-4e6b-8eb3-4fd89b54b2d7  0.012359\n",
       "89977  f6f6d9f3-ef2b-4329-a388-c6a687f27e70  0.011938\n",
       "89978  e9c39869-1bc5-4375-b627-a2df70b445ea  0.006468\n",
       "89979  6beb88a3-9641-4381-beb6-c9a208664dd0  0.008778\n",
       "89980  bb89b735-72fe-42a4-ba06-d63be0f4ca36  0.060918\n",
       "...                                     ...       ...\n",
       "99971  5c03bc63-ea65-4ffd-aa7b-95ea9a46db34  0.019608\n",
       "99972  f8db22f4-9819-420c-abbc-9ddf1843176e  0.011805\n",
       "99973  b22e21ea-b1b2-4df3-b236-0ff6d5fdc0d8  0.019273\n",
       "99974  bafcab15-9898-479c-b729-c9dda7edb78f  0.019738\n",
       "99975  ac88f18c-96a6-49bc-9e9d-a780225914af  0.014675\n",
       "\n",
       "[10000 rows x 2 columns]"
      ]
     },
     "execution_count": 118,
     "metadata": {},
     "output_type": "execute_result"
    }
   ],
   "source": [
    "df_pred"
   ]
  },
  {
   "cell_type": "markdown",
   "id": "ecc68aec",
   "metadata": {},
   "source": [
    "# Evaluating Model Performances\n",
    "## Initial model performances on the hold out test set"
   ]
  },
  {
   "cell_type": "code",
   "execution_count": 119,
   "id": "78237a56",
   "metadata": {},
   "outputs": [
    {
     "name": "stdout",
     "output_type": "stream",
     "text": [
      "model score: 0.985\n"
     ]
    }
   ],
   "source": [
    "print(\"model score: %.3f\" % regressor.score(X_test, y_test))"
   ]
  },
  {
   "cell_type": "code",
   "execution_count": 30,
   "id": "d26b4bd4",
   "metadata": {},
   "outputs": [],
   "source": [
    "from sklearn.metrics import f1_score, accuracy_score, roc_auc_score, plot_confusion_matrix, plot_roc_curve\n",
    "from sklearn.model_selection import train_test_split, cross_val_score, GridSearchCV, StratifiedKFold\n",
    "from sklearn.ensemble import RandomForestClassifier\n",
    "from sklearn.metrics import f1_score, accuracy_score, roc_auc_score, plot_confusion_matrix, plot_roc_curve"
   ]
  },
  {
   "cell_type": "code",
   "execution_count": 32,
   "id": "8fb8246b",
   "metadata": {},
   "outputs": [],
   "source": [
    "# y_train_pred = regressor.predict(X_train)\n",
    "# y_train_proba = regressor.predict_proba(X_train)"
   ]
  },
  {
   "cell_type": "code",
   "execution_count": 147,
   "id": "c90216a1",
   "metadata": {},
   "outputs": [
    {
     "name": "stdout",
     "output_type": "stream",
     "text": [
      "Acc: 0.9854412091575906\n",
      "F1: 0.03676470588235294\n",
      "ROC AUC: 0.8608883743655499\n"
     ]
    }
   ],
   "source": [
    "print('Acc:', accuracy_score( y_test, yhat))\n",
    "print('F1:', f1_score(y_test, yhat))\n",
    "print('ROC AUC:', roc_auc_score(y_test, yhat_prob[:,1]))"
   ]
  },
  {
   "cell_type": "code",
   "execution_count": 74,
   "id": "2fbab22f",
   "metadata": {},
   "outputs": [
    {
     "name": "stdout",
     "output_type": "stream",
     "text": [
      "              precision    recall  f1-score   support\n",
      "\n",
      "         0.0       0.99      1.00      0.99     17738\n",
      "         1.0       0.36      0.02      0.04       258\n",
      "\n",
      "    accuracy                           0.99     17996\n",
      "   macro avg       0.67      0.51      0.51     17996\n",
      "weighted avg       0.98      0.99      0.98     17996\n",
      "\n"
     ]
    }
   ],
   "source": [
    "from sklearn.metrics import classification_report\n",
    "print(classification_report(y_test,yhat))"
   ]
  },
  {
   "cell_type": "markdown",
   "id": "a8901f89",
   "metadata": {},
   "source": [
    "\n",
    "## Cross validated ACC, FI, ROC AUC scores"
   ]
  },
  {
   "cell_type": "code",
   "execution_count": 61,
   "id": "13e8b87f",
   "metadata": {},
   "outputs": [
    {
     "name": "stdout",
     "output_type": "stream",
     "text": [
      "Acc: 0.9853627631493055\n",
      "F1: 0.04907389655467488\n",
      "ROC AUC: 0.8652299978494721\n"
     ]
    }
   ],
   "source": [
    "print('Acc:', cross_val_score(regressor, X, y, cv=StratifiedKFold(n_splits=5), scoring='accuracy').mean())\n",
    "print('F1:', cross_val_score(regressor, X, y, cv=StratifiedKFold(n_splits=5), scoring='f1').mean())\n",
    "print('ROC AUC:', cross_val_score(regressor, X, y, cv=StratifiedKFold(n_splits=5), scoring='roc_auc').mean())"
   ]
  },
  {
   "cell_type": "code",
   "execution_count": 85,
   "id": "ecd7cb15",
   "metadata": {},
   "outputs": [
    {
     "data": {
      "text/plain": [
       "pandas.core.series.Series"
      ]
     },
     "execution_count": 85,
     "metadata": {},
     "output_type": "execute_result"
    }
   ],
   "source": [
    "type(y_test)"
   ]
  },
  {
   "cell_type": "code",
   "execution_count": 92,
   "id": "1a8b9491",
   "metadata": {},
   "outputs": [
    {
     "name": "stdout",
     "output_type": "stream",
     "text": [
      "[[17729     9]\n",
      " [  253     5]]\n"
     ]
    }
   ],
   "source": [
    "from sklearn.metrics import confusion_matrix\n",
    "print(confusion_matrix(y_test, yhat))"
   ]
  },
  {
   "cell_type": "code",
   "execution_count": 150,
   "id": "b6fbadba",
   "metadata": {},
   "outputs": [
    {
     "data": {
      "image/png": "[encoded data removed]",
      "text/plain": [
       "<Figure size 576x432 with 2 Axes>"
      ]
     },
     "metadata": {
      "needs_background": "light"
     },
     "output_type": "display_data"
    }
   ],
   "source": [
    "import matplotlib.pyplot as plt\n",
    "# Confusion matrix\n",
    "\n",
    "# Confusion matrix\n",
    "fig, ax = plt.subplots(figsize=(8, 6))\n",
    "plot_confusion_matrix(regressor, X_test, y_test, display_labels=['Good', 'Bad'], \n",
    "                      cmap=plt.cm.Blues, ax=ax)\n",
    "ax.set_title('Confusion Matrix on Test Set')\n",
    "plt.show()"
   ]
  },
  {
   "cell_type": "code",
   "execution_count": 71,
   "id": "c96a9bff",
   "metadata": {},
   "outputs": [
    {
     "data": {
      "text/plain": [
       "Text(0.5, 1.0, '2-class Precision-Recall curve: AP=0.13')"
      ]
     },
     "execution_count": 71,
     "metadata": {},
     "output_type": "execute_result"
    },
    {
     "data": {
      "image/png": "[encoded data removed]",
      "text/plain": [
       "<Figure size 432x288 with 1 Axes>"
      ]
     },
     "metadata": {
      "needs_background": "light"
     },
     "output_type": "display_data"
    }
   ],
   "source": [
    "from sklearn.metrics import precision_recall_curve\n",
    "from sklearn.metrics import plot_precision_recall_curve\n",
    "import matplotlib.pyplot as plt\n",
    "from sklearn.metrics import average_precision_score\n",
    "# y_score = regressor.decision_function(X_test)\n",
    "y_score = regressor.decision_function(X_test)\n",
    "average_precision = average_precision_score(y_test, y_score)\n",
    "\n",
    "disp = plot_precision_recall_curve(regressor, X_test, y_test)\n",
    "disp.ax_.set_title('2-class Precision-Recall curve: '\n",
    "                   'AP={0:0.2f}'.format(average_precision))"
   ]
  },
  {
   "cell_type": "code",
   "execution_count": 99,
   "id": "1ef78362",
   "metadata": {},
   "outputs": [
    {
     "data": {
      "image/png": "[encoded data removed]",
      "text/plain": [
       "<Figure size 576x576 with 1 Axes>"
      ]
     },
     "metadata": {
      "needs_background": "light"
     },
     "output_type": "display_data"
    }
   ],
   "source": [
    "from sklearn.metrics import roc_curve\n",
    "fig, ax = plt.subplots(figsize=(8, 8))\n",
    "# Generate ROC curve values: fpr, tpr, thresholds\n",
    "fpr, tpr, thresholds= roc_curve(y_test, yhat_prob[:,1])\n",
    "\n",
    "# Plot ROC curve\n",
    "plt.plot([0, 1], [0, 1], 'k--', color='r')\n",
    "plt.plot(fpr, tpr)\n",
    "plt.xlabel('False Positive Rate')\n",
    "plt.ylabel('True Positive Rate')\n",
    "plt.title('ROC Curve')\n",
    "plt.show()"
   ]
  },
  {
   "cell_type": "code",
   "execution_count": 43,
   "id": "04c06ae8",
   "metadata": {},
   "outputs": [],
   "source": [
    "# from sklearn.metrics import roc_auc_score\n",
    "# from sklearn.metrics import roc_curve\n",
    "# import matplotlib.pyplot as plt\n",
    "# logit_roc_auc = roc_auc_score(y_test, regressor.predict(X_test))\n",
    "# fpr, tpr, thresholds = roc_curve(y_test, regressor.predict_proba(X_test)[:,1])\n",
    "# plt.figure()\n",
    "# plt.plot(fpr, tpr, label='Logistic Regression (area = %0.2f)' % logit_roc_auc)\n",
    "# plt.plot([0, 1], [0, 1],'r--')\n",
    "# plt.xlim([0.0, 1.0])\n",
    "# plt.ylim([0.0, 1.05])\n",
    "# plt.xlabel('False Positive Rate')\n",
    "# plt.ylabel('True Positive Rate')\n",
    "# plt.title('Receiver operating characteristic')\n",
    "# plt.legend(loc=\"lower right\")\n",
    "# plt.savefig('Log_ROC')\n",
    "# plt.show()"
   ]
  },
  {
   "cell_type": "markdown",
   "id": "324bf377",
   "metadata": {},
   "source": [
    "## Hyperparameter Tuning"
   ]
  },
  {
   "cell_type": "markdown",
   "id": "b72ddff7",
   "metadata": {},
   "source": [
    "logistic regression also has a regularization parameter: C.C controls the inverse of the regularization strength. A large C can lead to an overfit model, while a small C can lead to an underfit model."
   ]
  },
  {
   "cell_type": "code",
   "execution_count": 49,
   "id": "0d6d28bd",
   "metadata": {},
   "outputs": [],
   "source": [
    "from sklearn.model_selection import cross_val_score, GridSearchCV, StratifiedKFold"
   ]
  },
  {
   "cell_type": "code",
   "execution_count": 100,
   "id": "a0cba49f",
   "metadata": {},
   "outputs": [],
   "source": [
    "# Setup the hyperparameter grid\n",
    "c_space = np.logspace(-5, 8, 15)\n",
    "param_grid = {'C': c_space}"
   ]
  },
  {
   "cell_type": "code",
   "execution_count": 120,
   "id": "df0c6239",
   "metadata": {},
   "outputs": [
    {
     "data": {
      "text/plain": [
       "GridSearchCV(cv=5, estimator=LogisticRegression(max_iter=10000),\n",
       "             param_grid={'C': array([1.00000000e-05, 8.48342898e-05, 7.19685673e-04, 6.10540230e-03,\n",
       "       5.17947468e-02, 4.39397056e-01, 3.72759372e+00, 3.16227766e+01,\n",
       "       2.68269580e+02, 2.27584593e+03, 1.93069773e+04, 1.63789371e+05,\n",
       "       1.38949549e+06, 1.17876863e+07, 1.00000000e+08])})"
      ]
     },
     "execution_count": 120,
     "metadata": {},
     "output_type": "execute_result"
    }
   ],
   "source": [
    "# Instantiate the GridSearchCV object: logreg_cv\n",
    "logreg_cv = GridSearchCV(regressor, param_grid, cv=5)\n",
    "\n",
    "# Fit it to the data\n",
    "logreg_cv.fit(X, y)"
   ]
  },
  {
   "cell_type": "code",
   "execution_count": 121,
   "id": "5f4e2000",
   "metadata": {},
   "outputs": [
    {
     "name": "stdout",
     "output_type": "stream",
     "text": [
      "Tuned Logistic Regression Parameters: {'C': 1e-05}\n",
      "Best score is 0.9856850718146065\n"
     ]
    }
   ],
   "source": [
    "# Print the tuned parameters and score\n",
    "print(\"Tuned Logistic Regression Parameters: {}\".format(logreg_cv.best_params_)) \n",
    "print(\"Best score is {}\".format(logreg_cv.best_score_))"
   ]
  },
  {
   "cell_type": "markdown",
   "id": "a79ce6a7",
   "metadata": {},
   "source": [
    "# Refit the model using Best parameters"
   ]
  },
  {
   "cell_type": "code",
   "execution_count": 151,
   "id": "c2dba9c2",
   "metadata": {},
   "outputs": [],
   "source": [
    "regressor2= LogisticRegression(max_iter=10000, C =logreg_cv.best_params_['C'] )\n",
    "regressor2.fit(X_train, y_train)\n",
    "yhat2 = regressor2.predict(X_test)\n",
    "y_hat_proba2 = regressor2.predict_proba(X_test)"
   ]
  },
  {
   "cell_type": "code",
   "execution_count": 155,
   "id": "2ce75536",
   "metadata": {},
   "outputs": [],
   "source": [
    "print('Acc:', accuracy_score( y_test, yhat2))\n",
    "print('F1:', f1_score(y_test, yhat2))\n",
    "print('ROC AUC:', roc_auc_score(y_test, y_hat_proba2[:,1]))"
   ]
  },
  {
   "cell_type": "markdown",
   "id": "cc81c63d",
   "metadata": {},
   "source": [
    "# Feature Importance"
   ]
  },
  {
   "cell_type": "markdown",
   "id": "423d462f",
   "metadata": {},
   "source": [
    "Top 5 features:\n",
    "- Average payment span for past 0-12 months\n",
    "- num_arch_dc_0_12m\n",
    "- number of active\n",
    "- number of unpaid bills"
   ]
  },
  {
   "cell_type": "code",
   "execution_count": 57,
   "id": "5594b10a",
   "metadata": {},
   "outputs": [],
   "source": [
    "\n",
    "df_importance = pd.DataFrame({'feature': X_train.columns.tolist(), 'importance': regressor.coef_[0]})\n"
   ]
  },
  {
   "cell_type": "code",
   "execution_count": 58,
   "id": "ea1a1e1a",
   "metadata": {},
   "outputs": [
    {
     "data": {
      "text/html": [
       "<div>\n",
       "<style scoped>\n",
       "    .dataframe tbody tr th:only-of-type {\n",
       "        vertical-align: middle;\n",
       "    }\n",
       "\n",
       "    .dataframe tbody tr th {\n",
       "        vertical-align: top;\n",
       "    }\n",
       "\n",
       "    .dataframe thead th {\n",
       "        text-align: right;\n",
       "    }\n",
       "</style>\n",
       "<table border=\"1\" class=\"dataframe\">\n",
       "  <thead>\n",
       "    <tr style=\"text-align: right;\">\n",
       "      <th></th>\n",
       "      <th>feature</th>\n",
       "      <th>importance</th>\n",
       "    </tr>\n",
       "  </thead>\n",
       "  <tbody>\n",
       "    <tr>\n",
       "      <th>11</th>\n",
       "      <td>avg_payment_span_0_12m</td>\n",
       "      <td>6.055580</td>\n",
       "    </tr>\n",
       "    <tr>\n",
       "      <th>15</th>\n",
       "      <td>num_arch_dc_0_12m</td>\n",
       "      <td>4.297776</td>\n",
       "    </tr>\n",
       "    <tr>\n",
       "      <th>13</th>\n",
       "      <td>num_active_div_by_paid_inv_0_12m</td>\n",
       "      <td>3.557319</td>\n",
       "    </tr>\n",
       "    <tr>\n",
       "      <th>16</th>\n",
       "      <td>num_arch_dc_12_24m</td>\n",
       "      <td>3.463677</td>\n",
       "    </tr>\n",
       "    <tr>\n",
       "      <th>21</th>\n",
       "      <td>num_unpaid_bills</td>\n",
       "      <td>2.620754</td>\n",
       "    </tr>\n",
       "    <tr>\n",
       "      <th>...</th>\n",
       "      <td>...</td>\n",
       "      <td>...</td>\n",
       "    </tr>\n",
       "    <tr>\n",
       "      <th>29</th>\n",
       "      <td>sum_capital_paid_account_0_12m</td>\n",
       "      <td>-1.514837</td>\n",
       "    </tr>\n",
       "    <tr>\n",
       "      <th>10</th>\n",
       "      <td>age</td>\n",
       "      <td>-1.872435</td>\n",
       "    </tr>\n",
       "    <tr>\n",
       "      <th>30</th>\n",
       "      <td>sum_paid_inv_0_12m</td>\n",
       "      <td>-2.797278</td>\n",
       "    </tr>\n",
       "    <tr>\n",
       "      <th>12</th>\n",
       "      <td>max_paid_inv_0_24m</td>\n",
       "      <td>-3.682886</td>\n",
       "    </tr>\n",
       "    <tr>\n",
       "      <th>17</th>\n",
       "      <td>num_arch_ok_12_24m</td>\n",
       "      <td>-4.763927</td>\n",
       "    </tr>\n",
       "  </tbody>\n",
       "</table>\n",
       "<p>110 rows × 2 columns</p>\n",
       "</div>"
      ],
      "text/plain": [
       "                             feature  importance\n",
       "11            avg_payment_span_0_12m    6.055580\n",
       "15                 num_arch_dc_0_12m    4.297776\n",
       "13  num_active_div_by_paid_inv_0_12m    3.557319\n",
       "16                num_arch_dc_12_24m    3.463677\n",
       "21                  num_unpaid_bills    2.620754\n",
       "..                               ...         ...\n",
       "29    sum_capital_paid_account_0_12m   -1.514837\n",
       "10                               age   -1.872435\n",
       "30                sum_paid_inv_0_12m   -2.797278\n",
       "12                max_paid_inv_0_24m   -3.682886\n",
       "17                num_arch_ok_12_24m   -4.763927\n",
       "\n",
       "[110 rows x 2 columns]"
      ]
     },
     "execution_count": 58,
     "metadata": {},
     "output_type": "execute_result"
    }
   ],
   "source": [
    "df_importance.sort_values('importance', ascending=False)"
   ]
  },
  {
   "cell_type": "code",
   "execution_count": null,
   "id": "ce6239c6",
   "metadata": {},
   "outputs": [],
   "source": []
  }
 ],
 "metadata": {
  "kernelspec": {
   "display_name": "Python 3 (ipykernel)",
   "language": "python",
   "name": "python3"
  },
  "language_info": {
   "codemirror_mode": {
    "name": "ipython",
    "version": 3
   },
   "file_extension": ".py",
   "mimetype": "text/x-python",
   "name": "python",
   "nbconvert_exporter": "python",
   "pygments_lexer": "ipython3",
   "version": "3.9.6"
  }
 },
 "nbformat": 4,
 "nbformat_minor": 5
}
